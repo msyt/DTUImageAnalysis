{
 "cells": [
  {
   "cell_type": "markdown",
   "metadata": {},
   "source": [
    "### Exercise 1\n",
    "\n",
    "Explain how to calculate the angle $\\theta$ when $a$ and $b$ is given\n",
    "in the figure below. Calculate $\\theta$ (in degrees) when\n",
    "$a = 10$ and $b=3$ using the function `math.atan2()`. Remember to import `math` and find out what `atan2` does.\n",
    "\n",
    "![Angle in triangel](figures/ArcTangens.png)"
   ]
  },
  {
   "cell_type": "code",
   "execution_count": 6,
   "metadata": {},
   "outputs": [
    {
     "name": "stdout",
     "output_type": "stream",
     "text": [
      "0.2914567944778671\n"
     ]
    }
   ],
   "source": [
    "import math\n",
    "\n",
    "a = 10 \n",
    "b = 3\n",
    "theta = math.atan2(b, a)\n",
    "\n",
    "print(theta)"
   ]
  },
  {
   "cell_type": "markdown",
   "metadata": {},
   "source": [
    "### Exercise 2\n",
    "\n",
    "Create a Python function called `camera_b_distance`.\n",
    "\n",
    "The function should accept two arguments, a focal length f and an\n",
    "object distance g. It should return the distance from the lens to\n",
    "where the rays are focused (b) (where the CCD should be placed)\n",
    "\n",
    "The function should start like this:\n",
    "\n",
    "```python\n",
    "def camera_b_distance(f, g):\n",
    "    \"\"\"\n",
    "    camera_b_distance returns the distance (b) where the CCD should be placed\n",
    "    when the object distance (g) and the focal length (f) are given\n",
    "    :param f: Focal length\n",
    "    :param g: Object distance\n",
    "    :return: b, the distance where the CCD should be placed\n",
    "    \"\"\"\n",
    "```\n",
    "\n",
    "It should be based on Gauss' lens equation:\n",
    "$$\\frac{1}{g} + \\frac{1}{b} = \\frac{1}{f}$$\n",
    "\n",
    "You should decide if your function should calculate distances in mm or\n",
    "in meters, but remember to be consistent!\n",
    "\n",
    "Use your function to find out where the CCD should be placed when the\n",
    "focal length is 15 mm and the object distance is 0.1, 1, 5, and 15\n",
    "meters.\n",
    "\n",
    "What happens to the place of the CCD when the object distance is increased?"
   ]
  },
  {
   "cell_type": "code",
   "execution_count": 11,
   "metadata": {},
   "outputs": [
    {
     "name": "stdout",
     "output_type": "stream",
     "text": [
      "0.01764705882352941\n",
      "0.015228426395939085\n",
      "0.015045135406218655\n",
      "0.015015015015015013\n"
     ]
    }
   ],
   "source": [
    "def camera_b_distance(f, g):\n",
    "    \"\"\"\n",
    "    camera_b_distance returns the distance (b) where the CCD should be placed\n",
    "    when the object distance (g) and the focal length (f) are given\n",
    "    :param f: Focal length\n",
    "    :param g: Object distance\n",
    "    :return: b, the distance where the CCD should be placed\n",
    "    \"\"\"\n",
    "    b = (1/(f/1000) - 1/g) ** (-1)\n",
    "\n",
    "    return b\n",
    "\n",
    "print(camera_b_distance(15, 0.1))\n",
    "print(camera_b_distance(15, 1))\n",
    "print(camera_b_distance(15, 5))\n",
    "print(camera_b_distance(15, 15))"
   ]
  },
  {
   "cell_type": "markdown",
   "metadata": {},
   "source": [
    "## Camera exercise\n",
    "\n",
    "In the following exercise, you should remember to explain when\n",
    "something is in mm and when it is in meters. To convert between\n",
    "radians and degrees you can use:\n",
    "\n",
    "```\n",
    "angle_degrees = 180.0 / math.pi * angle_radians"
   ]
  },
  {
   "cell_type": "markdown",
   "metadata": {},
   "source": [
    "### Exercise 3\n",
    "\n",
    "Thomas is 1.8 meters tall and standing 5 meters from a camera. The\n",
    "cameras focal length is 5 mm. The CCD in the camera can be seen in\n",
    "the figure below. It is a 1/2\" (inches) CCD chip and the\n",
    "image formed by the CCD is 640x480 pixels in a (x,y) coordinate system.\n",
    "\n",
    "![CCD chip](figures/CCDChip.png)\n",
    "\n",
    "It is easiest to start by drawing the scene. The scene should\n",
    "contain the optical axis, the optical center, the lens, the focal\n",
    "point, the CCD chip, and Thomas. Do it on paper or even better in a\n",
    "drawing program.\n",
    "\n",
    "1. A focused image of Thomas is formed inside the camera. At which distance from the lens?\n",
    "2. How tall (in mm) will Thomas be on the CCD-chip?\n",
    "3. What is the size of a single pixel on the CCD chip? (in mm)?\n",
    "4. How tall (in pixels) will Thomas be on the CCD-chip?\n",
    "5. What is the horizontal field-of-view (in degrees)?\n",
    "6. What is the vertical field-of-view (in degrees)?"
   ]
  },
  {
   "cell_type": "code",
   "execution_count": 41,
   "metadata": {},
   "outputs": [
    {
     "name": "stdout",
     "output_type": "stream",
     "text": [
      "0.005005005005005005 m\n",
      "0.0018018018018018016 m\n",
      "1e-10 m2\n",
      "180.18018018018017 pixels\n",
      "65.23848614238565\n",
      "51.28201164861056\n"
     ]
    }
   ],
   "source": [
    "import math\n",
    "\n",
    "# 1 \n",
    "distance_in_lens = camera_b_distance(5, 5)\n",
    "print(str(distance_in_lens) + \" m\")\n",
    "\n",
    "# 2\n",
    "height_mm_on_CCD = 1.8/5*distance_in_lens\n",
    "print(str(height_mm_on_CCD) + \" m\")\n",
    "\n",
    "# 3\n",
    "pixel_size = (6.4/1000)/640 * (4.8/1000)/480\n",
    "print(str(pixel_size) + \" m2\")\n",
    "\n",
    "# 4\n",
    "height_pixel_on_CCD = height_mm_on_CCD / (4.8/1000/480)\n",
    "print(str(height_pixel_on_CCD) + \" pixels\")\n",
    "\n",
    "# 5\n",
    "width = 6.4\n",
    "hfov = 2 * math.atan2(width, 2*5) * 180/math.pi\n",
    "print(hfov)\n",
    "\n",
    "# 6 \n",
    "height = 4.8\n",
    "vfov = 2 * math.atan2(height, 2*5) * 180/math.pi\n",
    "print(vfov)"
   ]
  }
 ],
 "metadata": {
  "kernelspec": {
   "display_name": "course02502",
   "language": "python",
   "name": "python3"
  },
  "language_info": {
   "codemirror_mode": {
    "name": "ipython",
    "version": 3
   },
   "file_extension": ".py",
   "mimetype": "text/x-python",
   "name": "python",
   "nbconvert_exporter": "python",
   "pygments_lexer": "ipython3",
   "version": "3.9.18"
  }
 },
 "nbformat": 4,
 "nbformat_minor": 2
}
