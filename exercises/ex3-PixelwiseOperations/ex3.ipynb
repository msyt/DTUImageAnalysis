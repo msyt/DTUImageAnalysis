{
 "cells": [
  {
   "cell_type": "markdown",
   "metadata": {},
   "source": [
    "# Explorative data analysis\n",
    "\n",
    "First we will be working with an X-ray image of the human vertebra, `vertebra.png`. This type of images can for example be used for diagnosis of osteoporosis. A symptom is the so-called vertebral compression fracture. However, the diagnosis is very difficult to do based on x-rays alone.\n",
    "\n",
    "**Exercise 1:** *Start by reading the image and inspect the histogram. Is it a *bimodal* histogram? Do you think it will be possible to segment it so only the bones are visible?* \n"
   ]
  },
  {
   "cell_type": "code",
   "execution_count": 15,
   "metadata": {},
   "outputs": [
    {
     "data": {
      "image/png": "[encoded data removed]",
      "text/plain": [
       "<Figure size 640x480 with 1 Axes>"
      ]
     },
     "metadata": {},
     "output_type": "display_data"
    }
   ],
   "source": [
    "import matplotlib.pyplot as plt\n",
    "\n",
    "img = plt.imread('data/vertebra.png')\n",
    "img = img.ravel()*255 # I dunno why doesn't it work without the conversion, ig it's the format of the png??\n",
    "plt.hist(img, bins=256, range=(0, 255), fc='k', ec='k')  # Update the range parameter\n",
    "plt.show()"
   ]
  },
  {
   "cell_type": "markdown",
   "metadata": {},
   "source": [
    "**Exercise 2:** *Compute the minimum and maximum values of the image. Is the full scale of the gray-scale spectrum used or can we enhance the appearance of the image?*"
   ]
  },
  {
   "cell_type": "code",
   "execution_count": 52,
   "metadata": {},
   "outputs": [
    {
     "name": "stdout",
     "output_type": "stream",
     "text": [
      "min: 57\n",
      "max: 235\n"
     ]
    },
    {
     "data": {
      "image/png": "[encoded data removed]",
      "text/plain": [
       "<Figure size 640x480 with 1 Axes>"
      ]
     },
     "metadata": {},
     "output_type": "display_data"
    },
    {
     "name": "stdout",
     "output_type": "stream",
     "text": [
      "new min: 0\n",
      "new max: 255\n"
     ]
    }
   ],
   "source": [
    "img = plt.imread('data/vertebra.png')\n",
    "img = img.ravel()*255\n",
    "\n",
    "print('min:', int(min(img)))\n",
    "print('max:', int(max(img)))\n",
    "\n",
    "img = (img - min(img)) * (255 / (max(img) - min(img)))\n",
    "\n",
    "plt.hist(img, bins=256, range=(0, 255), fc='k', ec='k')  # Update the range parameter\n",
    "plt.show()\n",
    "\n",
    "print('new min:', int(min(img)))\n",
    "print('new max:', int(max(img)))"
   ]
  },
  {
   "cell_type": "markdown",
   "metadata": {},
   "source": [
    "**Exercise 3:** *Add an import statement to your script:*\n",
    "```\n",
    "from skimage.util import img_as_float\n",
    "from skimage.util import img_as_ubyte\n",
    "```\n",
    "\n",
    "*Read the image `vertebra.png` and compute and show the minumum and maximum values.*\n",
    "\n",
    "*Use `img_as_float` to compute a new float version of your input image. Compute the minimum and maximum values of this float image. Can you verify that the float image is equal to the original image, where each pixel value is divided by 255?*"
   ]
  },
  {
   "cell_type": "code",
   "execution_count": 59,
   "metadata": {},
   "outputs": [
    {
     "ename": "ValueError",
     "evalue": "Cannot convert from <U17 to float64.",
     "output_type": "error",
     "traceback": [
      "\u001b[1;31m---------------------------------------------------------------------------\u001b[0m",
      "\u001b[1;31mValueError\u001b[0m                                Traceback (most recent call last)",
      "Cell \u001b[1;32mIn[59], line 4\u001b[0m\n\u001b[0;32m      1\u001b[0m \u001b[38;5;28;01mfrom\u001b[39;00m \u001b[38;5;21;01mskimage\u001b[39;00m\u001b[38;5;21;01m.\u001b[39;00m\u001b[38;5;21;01mutil\u001b[39;00m \u001b[38;5;28;01mimport\u001b[39;00m img_as_float\n\u001b[0;32m      2\u001b[0m \u001b[38;5;28;01mfrom\u001b[39;00m \u001b[38;5;21;01mskimage\u001b[39;00m\u001b[38;5;21;01m.\u001b[39;00m\u001b[38;5;21;01mutil\u001b[39;00m \u001b[38;5;28;01mimport\u001b[39;00m img_as_ubyte\n\u001b[1;32m----> 4\u001b[0m img \u001b[38;5;241m=\u001b[39m \u001b[43mimg_as_float\u001b[49m\u001b[43m(\u001b[49m\u001b[38;5;124;43m'\u001b[39;49m\u001b[38;5;124;43mdata/vertebra.png\u001b[39;49m\u001b[38;5;124;43m'\u001b[39;49m\u001b[43m)\u001b[49m\n\u001b[0;32m      5\u001b[0m plt\u001b[38;5;241m.\u001b[39mimshow(img)\n",
      "File \u001b[1;32mc:\\Users\\minni\\anaconda3\\lib\\site-packages\\skimage\\util\\dtype.py:477\u001b[0m, in \u001b[0;36mimg_as_float\u001b[1;34m(image, force_copy)\u001b[0m\n\u001b[0;32m    451\u001b[0m \u001b[38;5;28;01mdef\u001b[39;00m \u001b[38;5;21mimg_as_float\u001b[39m(image, force_copy\u001b[38;5;241m=\u001b[39m\u001b[38;5;28;01mFalse\u001b[39;00m):\n\u001b[0;32m    452\u001b[0m     \u001b[38;5;124;03m\"\"\"Convert an image to floating point format.\u001b[39;00m\n\u001b[0;32m    453\u001b[0m \n\u001b[0;32m    454\u001b[0m \u001b[38;5;124;03m    This function is similar to `img_as_float64`, but will not convert\u001b[39;00m\n\u001b[1;32m   (...)\u001b[0m\n\u001b[0;32m    475\u001b[0m \n\u001b[0;32m    476\u001b[0m \u001b[38;5;124;03m    \"\"\"\u001b[39;00m\n\u001b[1;32m--> 477\u001b[0m     \u001b[38;5;28;01mreturn\u001b[39;00m \u001b[43m_convert\u001b[49m\u001b[43m(\u001b[49m\u001b[43mimage\u001b[49m\u001b[43m,\u001b[49m\u001b[43m \u001b[49m\u001b[43mnp\u001b[49m\u001b[38;5;241;43m.\u001b[39;49m\u001b[43mfloating\u001b[49m\u001b[43m,\u001b[49m\u001b[43m \u001b[49m\u001b[43mforce_copy\u001b[49m\u001b[43m)\u001b[49m\n",
      "File \u001b[1;32mc:\\Users\\minni\\anaconda3\\lib\\site-packages\\skimage\\util\\dtype.py:264\u001b[0m, in \u001b[0;36m_convert\u001b[1;34m(image, dtype, force_copy, uniform)\u001b[0m\n\u001b[0;32m    261\u001b[0m     \u001b[38;5;28;01mreturn\u001b[39;00m image\n\u001b[0;32m    263\u001b[0m \u001b[38;5;28;01mif\u001b[39;00m \u001b[38;5;129;01mnot\u001b[39;00m (dtype_in \u001b[38;5;129;01min\u001b[39;00m _supported_types \u001b[38;5;129;01mand\u001b[39;00m dtype_out \u001b[38;5;129;01min\u001b[39;00m _supported_types):\n\u001b[1;32m--> 264\u001b[0m     \u001b[38;5;28;01mraise\u001b[39;00m \u001b[38;5;167;01mValueError\u001b[39;00m(\u001b[38;5;124mf\u001b[39m\u001b[38;5;124m'\u001b[39m\u001b[38;5;124mCannot convert from \u001b[39m\u001b[38;5;132;01m{\u001b[39;00mdtypeobj_in\u001b[38;5;132;01m}\u001b[39;00m\u001b[38;5;124m to \u001b[39m\u001b[38;5;124m'\u001b[39m\n\u001b[0;32m    265\u001b[0m                      \u001b[38;5;124mf\u001b[39m\u001b[38;5;124m'\u001b[39m\u001b[38;5;132;01m{\u001b[39;00mdtypeobj_out\u001b[38;5;132;01m}\u001b[39;00m\u001b[38;5;124m.\u001b[39m\u001b[38;5;124m'\u001b[39m)\n\u001b[0;32m    267\u001b[0m \u001b[38;5;28;01mif\u001b[39;00m kind_in \u001b[38;5;129;01min\u001b[39;00m \u001b[38;5;124m'\u001b[39m\u001b[38;5;124mui\u001b[39m\u001b[38;5;124m'\u001b[39m:\n\u001b[0;32m    268\u001b[0m     imin_in \u001b[38;5;241m=\u001b[39m np\u001b[38;5;241m.\u001b[39miinfo(dtype_in)\u001b[38;5;241m.\u001b[39mmin\n",
      "\u001b[1;31mValueError\u001b[0m: Cannot convert from <U17 to float64."
     ]
    }
   ],
   "source": [
    "from skimage.util import img_as_float\n",
    "from skimage.util import img_as_ubyte\n",
    "\n",
    "img = img_as_float('data/vertebra.png')\n",
    "plt.imshow(img)\n"
   ]
  },
  {
   "cell_type": "markdown",
   "metadata": {},
   "source": [
    "**Exercise 4:** *Use `img_as_ubyte` on the float image you computed in the previous exercise. Compute the Compute the minimum and maximum values of this image. Are they as expected?*"
   ]
  },
  {
   "cell_type": "code",
   "execution_count": 51,
   "metadata": {},
   "outputs": [
    {
     "data": {
      "text/plain": [
       "76.0"
      ]
     },
     "execution_count": 51,
     "metadata": {},
     "output_type": "execute_result"
    }
   ],
   "source": []
  },
  {
   "cell_type": "markdown",
   "metadata": {},
   "source": []
  },
  {
   "cell_type": "code",
   "execution_count": 1,
   "metadata": {},
   "outputs": [
    {
     "name": "stderr",
     "output_type": "stream",
     "text": [
      "c:\\Users\\minni\\anaconda3\\lib\\site-packages\\paramiko\\transport.py:219: CryptographyDeprecationWarning: Blowfish has been deprecated\n",
      "  \"class\": algorithms.Blowfish,\n"
     ]
    },
    {
     "name": "stdout",
     "output_type": "stream",
     "text": [
      "Starting image capture\n",
      "Opening connection to camera\n",
      "Starting camera loop\n"
     ]
    },
    {
     "ename": "KeyboardInterrupt",
     "evalue": "",
     "output_type": "error",
     "traceback": [
      "\u001b[1;31m---------------------------------------------------------------------------\u001b[0m",
      "\u001b[1;31mKeyboardInterrupt\u001b[0m                         Traceback (most recent call last)",
      "Cell \u001b[1;32mIn[1], line 98\u001b[0m\n\u001b[0;32m     94\u001b[0m     cv2\u001b[38;5;241m.\u001b[39mdestroyAllWindows()\n\u001b[0;32m     97\u001b[0m \u001b[38;5;28;01mif\u001b[39;00m \u001b[38;5;18m__name__\u001b[39m \u001b[38;5;241m==\u001b[39m \u001b[38;5;124m'\u001b[39m\u001b[38;5;124m__main__\u001b[39m\u001b[38;5;124m'\u001b[39m:\n\u001b[1;32m---> 98\u001b[0m     \u001b[43mcapture_from_camera_and_show_images\u001b[49m\u001b[43m(\u001b[49m\u001b[43m)\u001b[49m\n",
      "Cell \u001b[1;32mIn[1], line 58\u001b[0m, in \u001b[0;36mcapture_from_camera_and_show_images\u001b[1;34m()\u001b[0m\n\u001b[0;32m     56\u001b[0m process_rgb \u001b[38;5;241m=\u001b[39m \u001b[38;5;28;01mFalse\u001b[39;00m\n\u001b[0;32m     57\u001b[0m \u001b[38;5;28;01mwhile\u001b[39;00m \u001b[38;5;129;01mnot\u001b[39;00m stop:\n\u001b[1;32m---> 58\u001b[0m     ret, new_frame \u001b[38;5;241m=\u001b[39m \u001b[43mcap\u001b[49m\u001b[38;5;241;43m.\u001b[39;49m\u001b[43mread\u001b[49m\u001b[43m(\u001b[49m\u001b[43m)\u001b[49m\n\u001b[0;32m     59\u001b[0m     \u001b[38;5;28;01mif\u001b[39;00m \u001b[38;5;129;01mnot\u001b[39;00m ret:\n\u001b[0;32m     60\u001b[0m         \u001b[38;5;28mprint\u001b[39m(\u001b[38;5;124m\"\u001b[39m\u001b[38;5;124mCan\u001b[39m\u001b[38;5;124m'\u001b[39m\u001b[38;5;124mt receive frame. Exiting ...\u001b[39m\u001b[38;5;124m\"\u001b[39m)\n",
      "\u001b[1;31mKeyboardInterrupt\u001b[0m: "
     ]
    },
    {
     "ename": "",
     "evalue": "",
     "output_type": "error",
     "traceback": [
      "\u001b[1;31mThe Kernel crashed while executing code in the current cell or a previous cell. \n",
      "\u001b[1;31mPlease review the code in the cell(s) to identify a possible cause of the failure. \n",
      "\u001b[1;31mClick <a href='https://aka.ms/vscodeJupyterKernelCrash'>here</a> for more info. \n",
      "\u001b[1;31mView Jupyter <a href='command:jupyter.viewOutput'>log</a> for further details."
     ]
    }
   ],
   "source": [
    "from skimage import color\n",
    "from skimage.util import img_as_ubyte\n",
    "from skimage.util import img_as_float\n",
    "import time\n",
    "import cv2\n",
    "\n",
    "\n",
    "def show_in_moved_window(win_name, img, x, y):\n",
    "    \"\"\"\n",
    "    Show an image in a window, where the position of the window can be given\n",
    "    \"\"\"\n",
    "    cv2.namedWindow(win_name)\n",
    "    cv2.moveWindow(win_name, x, y)\n",
    "    cv2.imshow(win_name, img)\n",
    "\n",
    "\n",
    "def process_gray_image(img):\n",
    "    \"\"\"\n",
    "    Do a simple processing of an input gray scale image and return the processed image.\n",
    "    # https://scikit-image.org/docs/stable/user_guide/data_types.html#image-processing-pipeline\n",
    "    \"\"\"\n",
    "    img_float = img_as_float(img)\n",
    "    img_proc = 1 - img_float\n",
    "    return img_as_ubyte(img_proc)\n",
    "\n",
    "\n",
    "def process_rgb_image(img):\n",
    "    \"\"\"\n",
    "    Simple processing of a color (RGB) image\n",
    "    \"\"\"\n",
    "    # Copy the image information so we do not change the original image\n",
    "    proc_img = img.copy()\n",
    "    r_comp = proc_img[:, :, 0]\n",
    "    proc_img[:, :, 0] = 1 - r_comp\n",
    "    return proc_img\n",
    "\n",
    "\n",
    "def capture_from_camera_and_show_images():\n",
    "    print(\"Starting image capture\")\n",
    "\n",
    "    print(\"Opening connection to camera\")\n",
    "    url = 0\n",
    "    use_droid_cam = False\n",
    "    if use_droid_cam:\n",
    "        url = \"http://192.168.1.120:4747/video\"\n",
    "    cap = cv2.VideoCapture(url)\n",
    "    if not cap.isOpened():\n",
    "        print(\"Cannot open camera\")\n",
    "        exit()\n",
    "\n",
    "    print(\"Starting camera loop\")\n",
    "    # To keep track of frames per second using a high-performance counter\n",
    "    old_time = time.perf_counter()\n",
    "    fps = 0\n",
    "    stop = False\n",
    "    process_rgb = False\n",
    "    while not stop:\n",
    "        ret, new_frame = cap.read()\n",
    "        if not ret:\n",
    "            print(\"Can't receive frame. Exiting ...\")\n",
    "            break\n",
    "\n",
    "        # Change from OpenCV BGR to scikit image RGB\n",
    "        new_image = new_frame[:, :, ::-1]\n",
    "        new_image_gray = color.rgb2gray(new_image)\n",
    "        if process_rgb:\n",
    "            proc_img = process_rgb_image(new_image)\n",
    "            # convert back to OpenCV BGR to show it\n",
    "            proc_img = proc_img[:, :, ::-1]\n",
    "        else:\n",
    "            proc_img = process_gray_image(new_image_gray)\n",
    "\n",
    "        # update FPS - but do it slowly to avoid fast changing number\n",
    "        new_time = time.perf_counter()\n",
    "        time_dif = new_time - old_time\n",
    "        old_time = new_time\n",
    "        fps = fps * 0.95 + 0.05 * 1 / time_dif\n",
    "\n",
    "        # Put the FPS on the new_frame\n",
    "        str_out = f\"fps: {int(fps)}\"\n",
    "        font = cv2.FONT_HERSHEY_COMPLEX\n",
    "        cv2.putText(new_frame, str_out, (100, 100), font, 1, 255, 1)\n",
    "\n",
    "        # Display the resulting frame\n",
    "        show_in_moved_window('Input', new_frame, 0, 10)\n",
    "        show_in_moved_window('Input gray', new_image_gray, 600, 10)\n",
    "        show_in_moved_window('Processed image', proc_img, 1200, 10)\n",
    "\n",
    "        if cv2.waitKey(1) == ord('q'):\n",
    "            stop = True\n",
    "\n",
    "    print(\"Stopping image loop\")\n",
    "    cap.release()\n",
    "    cv2.destroyAllWindows()\n",
    "\n",
    "\n",
    "if __name__ == '__main__':\n",
    "    capture_from_camera_and_show_images()\n"
   ]
  }
 ],
 "metadata": {
  "kernelspec": {
   "display_name": "course02502",
   "language": "python",
   "name": "python3"
  },
  "language_info": {
   "codemirror_mode": {
    "name": "ipython",
    "version": 3
   },
   "file_extension": ".py",
   "mimetype": "text/x-python",
   "name": "python",
   "nbconvert_exporter": "python",
   "pygments_lexer": "ipython3",
   "version": "3.10.9"
  }
 },
 "nbformat": 4,
 "nbformat_minor": 2
}
