{
 "cells": [
  {
   "cell_type": "code",
   "execution_count": 1,
   "metadata": {},
   "outputs": [
    {
     "name": "stderr",
     "output_type": "stream",
     "text": [
      "c:\\Users\\minni\\anaconda3\\lib\\site-packages\\paramiko\\transport.py:219: CryptographyDeprecationWarning: Blowfish has been deprecated\n",
      "  \"class\": algorithms.Blowfish,\n"
     ]
    }
   ],
   "source": [
    "# Modified sligthly from\n",
    "# https://scikit-image.org/docs/dev/auto_examples/segmentation/plot_regionprops.html\n",
    "import plotly\n",
    "import plotly.express as px\n",
    "import plotly.graph_objects as go\n",
    "from skimage import data, filters, measure, morphology, io, color\n",
    "import plotly.io as pio\n",
    "pio.renderers.default='browser'\n",
    "\n",
    "def interactive_blobs():\n",
    "    in_dir = \"data/\"\n",
    "    im_name = \"lego_4_small.png\"\n",
    "\n",
    "    img_org = io.imread(in_dir + im_name)\n",
    "    img = color.rgb2gray(img_org)\n",
    "    # Binary image, post-process the binary mask and compute labels\n",
    "    threshold = filters.threshold_otsu(img)\n",
    "    mask = img < threshold\n",
    "    mask = morphology.remove_small_objects(mask, 50)\n",
    "    mask = morphology.remove_small_holes(mask, 50)\n",
    "    labels = measure.label(mask)\n",
    "\n",
    "    fig = px.imshow(img, binary_string=True)\n",
    "    fig.update_traces(hoverinfo='skip') # hover is only for label info\n",
    "\n",
    "    props = measure.regionprops(labels, img)\n",
    "    properties = ['area', 'eccentricity', 'perimeter', 'intensity_mean']\n",
    "\n",
    "    # For each label, add a filled scatter trace for its contour,\n",
    "    # and display the properties of the label in the hover of this trace.\n",
    "    for index in range(1, labels.max()):\n",
    "        label_i = props[index].label\n",
    "        contour = measure.find_contours(labels == label_i, 0.5)[0]\n",
    "        y, x = contour.T\n",
    "        hoverinfo = ''\n",
    "        for prop_name in properties:\n",
    "            hoverinfo += f'<b>{prop_name}: {getattr(props[index], prop_name):.2f}</b><br>'\n",
    "        fig.add_trace(go.Scatter(\n",
    "            x=x, y=y, name=label_i,\n",
    "            mode='lines', fill='toself', showlegend=False,\n",
    "            hovertemplate=hoverinfo, hoveron='points+fills'))\n",
    "\n",
    "    plotly.io.show(fig)\n",
    "\n",
    "\n",
    "if __name__ == '__main__':\n",
    "    interactive_blobs()\n",
    "\n"
   ]
  }
 ],
 "metadata": {
  "kernelspec": {
   "display_name": "base",
   "language": "python",
   "name": "python3"
  },
  "language_info": {
   "codemirror_mode": {
    "name": "ipython",
    "version": 3
   },
   "file_extension": ".py",
   "mimetype": "text/x-python",
   "name": "python",
   "nbconvert_exporter": "python",
   "pygments_lexer": "ipython3",
   "version": "3.10.9"
  }
 },
 "nbformat": 4,
 "nbformat_minor": 2
}
